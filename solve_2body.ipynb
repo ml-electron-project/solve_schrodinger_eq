{
 "cells": [
  {
   "cell_type": "markdown",
   "id": "a615068e-0874-412d-9958-a0beaa3de88d",
   "metadata": {},
   "source": [
    "必要パッケージのインストール"
   ]
  },
  {
   "cell_type": "code",
   "execution_count": null,
   "id": "9803aa94-e06a-405a-8a51-6c7955500fa5",
   "metadata": {},
   "outputs": [],
   "source": [
    "!pip install -r requirements.txt"
   ]
  },
  {
   "cell_type": "code",
   "execution_count": 2,
   "id": "e1d7453f-1ff2-4c35-9f9d-0fce5d4d8fb3",
   "metadata": {},
   "outputs": [],
   "source": [
    "from typing import Union\n",
    "\n",
    "import numpy as np\n",
    "import scipy"
   ]
  },
  {
   "cell_type": "markdown",
   "id": "a94f70c4-6718-40bd-b977-f67e7f2c10cb",
   "metadata": {},
   "source": [
    "# 実空間一様グリッドの定義"
   ]
  },
  {
   "cell_type": "code",
   "execution_count": 3,
   "id": "bc0663e3-63b2-49b6-8f39-0643df43eb10",
   "metadata": {},
   "outputs": [
    {
     "data": {
      "text/plain": [
       "0.20202020202020243"
      ]
     },
     "execution_count": 3,
     "metadata": {},
     "output_type": "execute_result"
    }
   ],
   "source": [
    "xmin = -10\n",
    "xmax = 10\n",
    "Ngrid = 100\n",
    "x_g = np.linspace(xmin, xmax, Ngrid)\n",
    "dx = x_g[1] - x_g[0]\n",
    "dx"
   ]
  },
  {
   "cell_type": "markdown",
   "id": "6f60b92c-76fb-499f-9e70-cdfb26ce1ccc",
   "metadata": {},
   "source": [
    "# ポテンシャルの定義\n",
    "調和振動子 $V_{ext}(x)=(1/2)m\\omega^2x^2, \\omega=1$とする"
   ]
  },
  {
   "cell_type": "code",
   "execution_count": 4,
   "id": "0b4d0f6a-ef94-4419-b540-6b8f9a4b2c2c",
   "metadata": {},
   "outputs": [],
   "source": [
    "def V_ext(x: Union[np.array, float]):\n",
    "    return 0.5 * x**2"
   ]
  },
  {
   "cell_type": "markdown",
   "id": "47a38c80",
   "metadata": {},
   "source": [
    "# 電子間ポテンシャルの定義\n",
    "クーロン相互作用は1/|x1-x2|。ゼロ割の処理としてとりあえず大きい数字(1e7)に置き換える。"
   ]
  },
  {
   "cell_type": "code",
   "execution_count": 51,
   "id": "543fcd6e",
   "metadata": {},
   "outputs": [],
   "source": [
    "def V_ee(x1: float, x2: float):\n",
    "    if abs(x1 - x2) < 1e-7:\n",
    "        return 1e7\n",
    "    return 1.0 / abs(x2 - x1)"
   ]
  },
  {
   "cell_type": "markdown",
   "id": "f59836f4",
   "metadata": {},
   "source": [
    "# 2体版_ハミルトニアン行列の定義\n",
    "- 差分法にて∇^2を表現する。\n",
    "- スピンレス系とする\n",
    "- 1番目の粒子の座標をx_g2, 2番目の粒子の座標をx_g2として、G=g1*Ngrid+g2  をインデックスに持つサイズNgrid^2の配列として波動関数を離散化する。"
   ]
  },
  {
   "cell_type": "code",
   "execution_count": 45,
   "id": "3153e518-dc80-41fe-a6eb-867361faeaca",
   "metadata": {},
   "outputs": [
    {
     "name": "stdout",
     "output_type": "stream",
     "text": [
      "[[ 1.00001490e+07 -1.22512500e+01  0.00000000e+00 ...  0.00000000e+00\n",
      "   0.00000000e+00  0.00000000e+00]\n",
      " [-1.22512500e+01  1.51955204e+02 -1.22512500e+01 ...  0.00000000e+00\n",
      "   0.00000000e+00  0.00000000e+00]\n",
      " [ 0.00000000e+00 -1.22512500e+01  1.47521220e+02 ...  0.00000000e+00\n",
      "   0.00000000e+00  0.00000000e+00]\n",
      " ...\n",
      " [ 0.00000000e+00  0.00000000e+00  0.00000000e+00 ...  1.47521220e+02\n",
      "  -1.22512500e+01  0.00000000e+00]\n",
      " [ 0.00000000e+00  0.00000000e+00  0.00000000e+00 ... -1.22512500e+01\n",
      "   1.51955204e+02 -1.22512500e+01]\n",
      " [ 0.00000000e+00  0.00000000e+00  0.00000000e+00 ...  0.00000000e+00\n",
      "  -1.22512500e+01  1.00001490e+07]]\n"
     ]
    }
   ],
   "source": [
    "H2 = np.zeros((Ngrid**2, Ngrid**2))\n",
    "kin_diag = -0.5 * (-2.0 / dx**2)\n",
    "kin_offdiag = -0.5 * (1.0 / dx**2)\n",
    "for g1 in range(Ngrid):\n",
    "    x1 = x_g[g1]\n",
    "    v1 = V_ext(x1)\n",
    "    for g2 in range(Ngrid):\n",
    "        G = g1 * Ngrid + g2\n",
    "        x2 = x_g[g2]\n",
    "        v2 = V_ext(x2)\n",
    "        vint = V_ee(x1, x2)\n",
    "        H2[G, g1 * Ngrid + g2] = 2 * kin_diag + v1 + v2 + vint\n",
    "        if g2 > 0:\n",
    "            H2[G, g1 * Ngrid + g2 - 1] = kin_offdiag\n",
    "        if g1 > 0:\n",
    "            H2[G, (g1 - 1) * Ngrid + g2] = kin_offdiag\n",
    "        if g2 < Ngrid - 1:\n",
    "            H2[G, g1 * Ngrid + g2 + 1] = kin_offdiag\n",
    "        if g1 < Ngrid - 1:\n",
    "            H2[G, (g1 + 1) * Ngrid + g2] = kin_offdiag\n",
    "print(H2)\n",
    "\n",
    "from scipy.sparse import csr_matrix\n",
    "\n",
    "H2_csr = csr_matrix(H2)"
   ]
  },
  {
   "cell_type": "markdown",
   "id": "51d00cf8",
   "metadata": {},
   "source": [
    "# scipyの疎行列ライブラリを使って対角化"
   ]
  },
  {
   "cell_type": "code",
   "execution_count": 46,
   "id": "3e52312a",
   "metadata": {},
   "outputs": [
    {
     "name": "stdout",
     "output_type": "stream",
     "text": [
      "2.7230571939694603\n",
      "CPU times: user 1min 19s, sys: 2.85 s, total: 1min 22s\n",
      "Wall time: 15.1 s\n"
     ]
    }
   ],
   "source": [
    "%%time\n",
    "es_i, psis_gi = scipy.sparse.linalg.eigsh(H2_csr, k=10, which=\"SM\")\n",
    "psis_ig = psis_gi.T\n",
    "print(es_i[0])"
   ]
  },
  {
   "cell_type": "markdown",
   "id": "0bc83686",
   "metadata": {},
   "source": [
    "# 基底状態の電子密度の計算"
   ]
  },
  {
   "cell_type": "code",
   "execution_count": 47,
   "id": "9b29de5e",
   "metadata": {},
   "outputs": [
    {
     "name": "stdout",
     "output_type": "stream",
     "text": [
      "0.04081216202428389\n"
     ]
    }
   ],
   "source": [
    "n2b = np.zeros(Ngrid)\n",
    "for g1 in range(Ngrid):\n",
    "    for g2 in range(Ngrid):\n",
    "        n2b[g1] += psis_ig[0, g1 * Ngrid + g2] ** 2 * dx\n",
    "n2b_tot = np.sum(n2b) * dx\n",
    "print(n2b_tot)\n",
    "n2b = n2b / n2b_tot * 2.0  # 規格化、電子数2個"
   ]
  },
  {
   "cell_type": "markdown",
   "id": "e142809e",
   "metadata": {},
   "source": [
    "# 電子密度のプロット"
   ]
  },
  {
   "cell_type": "code",
   "execution_count": 48,
   "id": "af24cfd3",
   "metadata": {},
   "outputs": [
    {
     "data": {
      "text/plain": [
       "<matplotlib.legend.Legend at 0x16502ec10>"
      ]
     },
     "execution_count": 48,
     "metadata": {},
     "output_type": "execute_result"
    },
    {
     "data": {
      "image/png": "[encoded data removed]",
      "text/plain": [
       "<Figure size 640x480 with 1 Axes>"
      ]
     },
     "metadata": {},
     "output_type": "display_data"
    }
   ],
   "source": [
    "from matplotlib import pyplot as plt\n",
    "\n",
    "plt.plot(x_g, n2b, label=\"2b\")\n",
    "plt.legend()"
   ]
  },
  {
   "cell_type": "markdown",
   "id": "4d1fecdf",
   "metadata": {},
   "source": [
    "# 1電子状態との比較\n",
    "1体の基底状態と第一励起状態に電子を配置した電子密度と比較してみる。"
   ]
  },
  {
   "cell_type": "code",
   "execution_count": 49,
   "id": "4e129bcb",
   "metadata": {},
   "outputs": [],
   "source": [
    "# 1体ハミルトニアンを解く\n",
    "\n",
    "H = np.zeros((Ngrid, Ngrid))\n",
    "kin_diag = -0.5 * (-2.0 / dx**2)\n",
    "kin_offdiag = -0.5 * (1.0 / dx**2)\n",
    "for g in range(Ngrid):\n",
    "    H[g, g] = kin_diag + V_ext(x_g[g])\n",
    "    if g > 0:\n",
    "        H[g, g - 1] = kin_offdiag\n",
    "    if g < Ngrid - 1:\n",
    "        H[g, g + 1] = kin_offdiag\n",
    "\n",
    "\n",
    "H_csr = csr_matrix(H)  # Compressed Sparse Row matrix\n",
    "es_i, psis_gi = scipy.sparse.linalg.eigsh(H_csr, k=10, which=\"SM\")\n",
    "psis_ig = psis_gi.T\n",
    "\n",
    "# 電子密度計算\n",
    "n1b = psis_ig[0] ** 2 + psis_ig[1] ** 2\n",
    "n1b_tot = n1b.sum() * dx\n",
    "n1b = n1b / n1b_tot * 2.0"
   ]
  },
  {
   "cell_type": "code",
   "execution_count": 50,
   "id": "146da5ce",
   "metadata": {},
   "outputs": [
    {
     "data": {
      "text/plain": [
       "<matplotlib.legend.Legend at 0x1650c1520>"
      ]
     },
     "execution_count": 50,
     "metadata": {},
     "output_type": "execute_result"
    },
    {
     "data": {
      "image/png": "[encoded data removed]",
      "text/plain": [
       "<Figure size 640x480 with 1 Axes>"
      ]
     },
     "metadata": {},
     "output_type": "display_data"
    }
   ],
   "source": [
    "from matplotlib import pyplot as plt\n",
    "\n",
    "plt.plot(x_g, n2b, label=\"2b\")\n",
    "plt.plot(x_g, n1b, label=\"1b\")\n",
    "plt.legend()"
   ]
  },
  {
   "cell_type": "markdown",
   "id": "c42f6c22",
   "metadata": {},
   "source": [
    "## (Optional)\n",
    "- なぜ、n2bとn1bの形は似るのか。\n",
    "- 疎行列ライブラリで対角化するとどうなるか(非常に重く、数分がかかるので注意。スペックによってはフリーズする可能性あり。)\n",
    "- 3体問題に拡張するとどうなるのか(フリーズに注意)\n"
   ]
  }
 ],
 "metadata": {
  "kernelspec": {
   "display_name": "Python 3 (ipykernel)",
   "language": "python",
   "name": "python3"
  },
  "language_info": {
   "codemirror_mode": {
    "name": "ipython",
    "version": 3
   },
   "file_extension": ".py",
   "mimetype": "text/x-python",
   "name": "python",
   "nbconvert_exporter": "python",
   "pygments_lexer": "ipython3",
   "version": "3.9.6"
  }
 },
 "nbformat": 4,
 "nbformat_minor": 5
}
